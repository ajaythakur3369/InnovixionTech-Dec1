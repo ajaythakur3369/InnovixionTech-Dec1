{
  "nbformat": 4,
  "nbformat_minor": 0,
  "metadata": {
    "colab": {
      "provenance": [],
      "authorship_tag": "ABX9TyP/eXdg3PFChVV5H+ET+/b0",
      "include_colab_link": true
    },
    "kernelspec": {
      "name": "python3",
      "display_name": "Python 3"
    },
    "language_info": {
      "name": "python"
    }
  },
  "cells": [
    {
      "cell_type": "markdown",
      "metadata": {
        "id": "view-in-github",
        "colab_type": "text"
      },
      "source": [
        "<a href=\"https://colab.research.google.com/github/ajaythakur3369/InnovixionTech-Dec1/blob/main/Task_1_Basic_Web_Scraper.ipynb\" target=\"_parent\"><img src=\"https://colab.research.google.com/assets/colab-badge.svg\" alt=\"Open In Colab\"/></a>"
      ]
    },
    {
      "cell_type": "markdown",
      "source": [
        "# **Project - Basic Web Scraper**\n",
        "## **Developed By - Ajay Thakur (ajaythakur3369@gmail.com)**\n",
        "## **Branch Name - Electronics and Communication Engineering**\n",
        "## **Institute Name - Indian Institute of Information Technology Kota (An Institute of National Importance under an Act of Parliament)**\n",
        "## **Submitted To - Innovixion Tech**\n",
        "## **Project Link (GitHub) - [Click here](https://github.com/ajaythakur3369/InnovixionTech-Dec1/blob/main/Task_1_Basic_Web_Scraper.ipynb)**\n",
        "## **Project Link (Drive) - [Click here](https://colab.research.google.com/drive/13U7KVA8lx5hdwG3zSq8ANqXBAuwJKGg8)**"
      ],
      "metadata": {
        "id": "AQHyYt5_Jqi5"
      }
    },
    {
      "cell_type": "markdown",
      "source": [
        "# **Problem Statement -**"
      ],
      "metadata": {
        "id": "xzHD2IBiJ_x8"
      }
    },
    {
      "cell_type": "markdown",
      "source": [
        "Create a simple web scraper that extracts information from a\n",
        "website and presents it in a structured form.\n",
        "\n",
        "**url -** https://www.amazon.in/s?i=stripbooks&bbn=976389031&rh=n%3A976389031%2Cp_85%3A10440599031%2Cp_n_availability%3A1318484031&pf_rd_i=976389031&pf_rd_m=A1VBAL9TL5WCBF&pf_rd_p=d9156ff5-f4fe-4d30-acc4-be8a85626096&pf_rd_r=RPJ07AB4GA6NNQH82SE9&pf_rd_s=merchandised-search-4&ref=AF_WIN_bub_w_cml_t_1\n",
        "\n",
        "**Dataset -** https://github.com/gayatrifegde/Innovixion-Tech/blob/main/Task_1/AmazonScrape.csv\n",
        "\n",
        "https://github.com/gayatrifegde/Innovixion-Tech/blob/main/Task_1/AmazonScrapeFinal.csv"
      ],
      "metadata": {
        "id": "8NVMtWeVKIbn"
      }
    },
    {
      "cell_type": "markdown",
      "source": [
        "# **Let's Begin !**"
      ],
      "metadata": {
        "id": "PD82IJhbJ_1-"
      }
    },
    {
      "cell_type": "code",
      "execution_count": null,
      "metadata": {
        "id": "HiYFe-j0zLp6"
      },
      "outputs": [],
      "source": [
        "# Importing all the required libraries\n",
        "import requests as re\n",
        "from bs4 import BeautifulSoup\n",
        "import datetime\n",
        "import pandas as pd\n",
        "import warnings\n",
        "warnings.filterwarnings('ignore')"
      ]
    },
    {
      "cell_type": "code",
      "source": [
        "# Getting all the required data as HTML\n",
        "url = 'https://www.amazon.in/s?i=stripbooks&bbn=976389031&rh=n%3A976389031%2Cp_85%3A10440599031%2Cp_n_availability%3A1318484031&pf_rd_i=976389031&pf_rd_m=A1VBAL9TL5WCBF&pf_rd_p=d9156ff5-f4fe-4d30-acc4-be8a85626096&pf_rd_r=RPJ07AB4GA6NNQH82SE9&pf_rd_s=merchandised-search-4&ref=AF_WIN_bub_w_cml_t_1'\n",
        "\n",
        "headers = {\"User-Agent\": \"Mozilla/5.0 (Windows NT 10.0; Win64; x64) AppleWebKit/537.36 (KHTML, like Gecko) Chrome/115.0.0.0 Safari/537.36 Edg/115.0.1901.203\"}\n",
        "webpage = re.get(url, headers = headers)\n",
        "soup1 = BeautifulSoup(webpage.content, 'lxml')\n",
        "soup2 = BeautifulSoup(soup1.prettify(), 'lxml')\n",
        "link_title = \"a-size-medium a-color-base a-text-normal\"\n",
        "link_price = \"a-price-whole\"\n"
      ],
      "metadata": {
        "id": "mha6NfyQzQY0"
      },
      "execution_count": null,
      "outputs": []
    },
    {
      "cell_type": "code",
      "source": [
        "# Finding specific tags and attributes\n",
        "title = soup2.find_all('span', attrs = {'class':link_title})\n",
        "price = soup2.div.find_all('span', attrs = {'class':link_price})"
      ],
      "metadata": {
        "id": "RHnr84CM1Dot"
      },
      "execution_count": null,
      "outputs": []
    },
    {
      "cell_type": "code",
      "source": [
        "print(price)\n",
        "print(title)"
      ],
      "metadata": {
        "colab": {
          "base_uri": "https://localhost:8080/"
        },
        "id": "dWZ2EKhL1M5J",
        "outputId": "a05f980d-59e4-47e4-9f43-03b8048f283b"
      },
      "execution_count": null,
      "outputs": [
        {
          "output_type": "stream",
          "name": "stdout",
          "text": [
            "[<span class=\"a-price-whole\">\n",
            "                             399\n",
            "                            </span>, <span class=\"a-price-whole\">\n",
            "                             187\n",
            "                            </span>, <span class=\"a-price-whole\">\n",
            "                               177\n",
            "                               <span class=\"a-price-decimal\">\n",
            "                                .\n",
            "                               </span>\n",
            "</span>, <span class=\"a-price-whole\">\n",
            "                               0\n",
            "                              </span>, <span class=\"a-price-whole\">\n",
            "                             589\n",
            "                            </span>, <span class=\"a-price-whole\">\n",
            "                               559\n",
            "                               <span class=\"a-price-decimal\">\n",
            "                                .\n",
            "                               </span>\n",
            "</span>, <span class=\"a-price-whole\">\n",
            "                             549\n",
            "                            </span>, <span class=\"a-price-whole\">\n",
            "                               265\n",
            "                               <span class=\"a-price-decimal\">\n",
            "                                .\n",
            "                               </span>\n",
            "</span>, <span class=\"a-price-whole\">\n",
            "                               0\n",
            "                              </span>, <span class=\"a-price-whole\">\n",
            "                             115\n",
            "                            </span>, <span class=\"a-price-whole\">\n",
            "                               15\n",
            "                              </span>, <span class=\"a-price-whole\">\n",
            "                               0\n",
            "                              </span>, <span class=\"a-price-whole\">\n",
            "                             346\n",
            "                            </span>, <span class=\"a-price-whole\">\n",
            "                               189\n",
            "                               <span class=\"a-price-decimal\">\n",
            "                                .\n",
            "                               </span>\n",
            "</span>, <span class=\"a-price-whole\">\n",
            "                               0\n",
            "                              </span>, <span class=\"a-price-whole\">\n",
            "                             329\n",
            "                            </span>, <span class=\"a-price-whole\">\n",
            "                             311\n",
            "                            </span>, <span class=\"a-price-whole\">\n",
            "                               175\n",
            "                               <span class=\"a-price-decimal\">\n",
            "                                .\n",
            "                               </span>\n",
            "</span>, <span class=\"a-price-whole\">\n",
            "                               399\n",
            "                              </span>, <span class=\"a-price-whole\">\n",
            "                             449\n",
            "                            </span>, <span class=\"a-price-whole\">\n",
            "                             89\n",
            "                            </span>, <span class=\"a-price-whole\">\n",
            "                             670\n",
            "                            </span>, <span class=\"a-price-whole\">\n",
            "                               170\n",
            "                              </span>, <span class=\"a-price-whole\">\n",
            "                               242\n",
            "                               <span class=\"a-price-decimal\">\n",
            "                                .\n",
            "                               </span>\n",
            "</span>, <span class=\"a-price-whole\">\n",
            "                             328\n",
            "                            </span>, <span class=\"a-price-whole\">\n",
            "                               310\n",
            "                               <span class=\"a-price-decimal\">\n",
            "                                .\n",
            "                               </span>\n",
            "</span>, <span class=\"a-price-whole\">\n",
            "                               0\n",
            "                              </span>, <span class=\"a-price-whole\">\n",
            "                             309\n",
            "                            </span>, <span class=\"a-price-whole\">\n",
            "                               247\n",
            "                               <span class=\"a-price-decimal\">\n",
            "                                .\n",
            "                               </span>\n",
            "</span>, <span class=\"a-price-whole\">\n",
            "                             744\n",
            "                            </span>, <span class=\"a-price-whole\">\n",
            "                             307\n",
            "                            </span>, <span class=\"a-price-whole\">\n",
            "                               245\n",
            "                               <span class=\"a-price-decimal\">\n",
            "                                .\n",
            "                               </span>\n",
            "</span>, <span class=\"a-price-whole\">\n",
            "                               719\n",
            "                              </span>, <span class=\"a-price-whole\">\n",
            "                             99\n",
            "                            </span>, <span class=\"a-price-whole\">\n",
            "                               51\n",
            "                               <span class=\"a-price-decimal\">\n",
            "                                .\n",
            "                               </span>\n",
            "</span>, <span class=\"a-price-whole\">\n",
            "                               225\n",
            "                              </span>]\n",
            "[<span class=\"a-size-medium a-color-base a-text-normal\">\n",
            "                       My First Library: Boxset of 10 Board Books for Kids\n",
            "                      </span>, <span class=\"a-size-medium a-color-base a-text-normal\">\n",
            "                       Don't Believe Everything You Think (English)\n",
            "                      </span>, <span class=\"a-size-medium a-color-base a-text-normal\">\n",
            "                       PRANAB, MY FATHER: A Daughter Remembers\n",
            "                      </span>, <span class=\"a-size-medium a-color-base a-text-normal\">\n",
            "                       Atomic Habits\n",
            "                      </span>, <span class=\"a-size-medium a-color-base a-text-normal\">\n",
            "                       The Power of Your Subconscious Mind\n",
            "                      </span>, <span class=\"a-size-medium a-color-base a-text-normal\">\n",
            "                       Ikigai\n",
            "                      </span>, <span class=\"a-size-medium a-color-base a-text-normal\">\n",
            "                       Colouring Books for Kids (Pack of 12 Books)\n",
            "                      </span>, <span class=\"a-size-medium a-color-base a-text-normal\">\n",
            "                       The Psychology Of Money\n",
            "                      </span>, <span class=\"a-size-medium a-color-base a-text-normal\">\n",
            "                       SSC GD (COMBO) MATH +REASONING+GK+HINDI\n",
            "                      </span>, <span class=\"a-size-medium a-color-base a-text-normal\">\n",
            "                       My First Book of Patterns Pencil Control: Practice Patterns (Pattern Writing)\n",
            "                      </span>, <span class=\"a-size-medium a-color-base a-text-normal\">\n",
            "                       THE 48 LAWS OF POWER\n",
            "                      </span>, <span class=\"a-size-medium a-color-base a-text-normal\">\n",
            "                       Same as Ever: Timeless Lessons on Risk, Opportunity and Living a Good Life\n",
            "                      </span>, <span class=\"a-size-medium a-color-base a-text-normal\">\n",
            "                       Oswaal CBSE Sample Question Papers Class 10 Science Book (For Board Exams 2024) | 2023-24 Oswaal Editorial Board\n",
            "                      </span>, <span class=\"a-size-medium a-color-base a-text-normal\">\n",
            "                       Indian Polity for UPSC (English| 7th Edition) |Civil Services Exam| State Administrative Exams\n",
            "                      </span>, <span class=\"a-size-medium a-color-base a-text-normal\">\n",
            "                       Oswaal CBSE Sample Question Papers Class 10 Mathematics Standard Book (For Board Exams 2024) | 2023-24\n",
            "                      </span>, <span class=\"a-size-medium a-color-base a-text-normal\">\n",
            "                       You Can\n",
            "                      </span>]\n"
          ]
        }
      ]
    },
    {
      "cell_type": "code",
      "source": [
        "# Appending prices of books to an empty list\n",
        "price_lst = []\n",
        "for cost in price:\n",
        "    price_lst.append(cost.text.strip())\n",
        "print(price_lst)\n",
        "\n",
        "# Appending titles of books to an empty list\n",
        "title_lst = []\n",
        "\n",
        "for i in title:\n",
        "    title_lst.append(i.text.strip())\n",
        "\n",
        "print(title_lst)"
      ],
      "metadata": {
        "colab": {
          "base_uri": "https://localhost:8080/"
        },
        "id": "lKgyO1cezQcc",
        "outputId": "84944253-28a6-49eb-b175-50aa3ea4d564"
      },
      "execution_count": null,
      "outputs": [
        {
          "output_type": "stream",
          "name": "stdout",
          "text": [
            "['399', '187', '177\\n                               \\n                                .', '0', '589', '559\\n                               \\n                                .', '549', '265\\n                               \\n                                .', '0', '115', '15', '0', '346', '189\\n                               \\n                                .', '0', '329', '311', '175\\n                               \\n                                .', '399', '449', '89', '670', '170', '242\\n                               \\n                                .', '328', '310\\n                               \\n                                .', '0', '309', '247\\n                               \\n                                .', '744', '307', '245\\n                               \\n                                .', '719', '99', '51\\n                               \\n                                .', '225']\n",
            "['My First Library: Boxset of 10 Board Books for Kids', \"Don't Believe Everything You Think (English)\", 'PRANAB, MY FATHER: A Daughter Remembers', 'Atomic Habits', 'The Power of Your Subconscious Mind', 'Ikigai', 'Colouring Books for Kids (Pack of 12 Books)', 'The Psychology Of Money', 'SSC GD (COMBO) MATH +REASONING+GK+HINDI', 'My First Book of Patterns Pencil Control: Practice Patterns (Pattern Writing)', 'THE 48 LAWS OF POWER', 'Same as Ever: Timeless Lessons on Risk, Opportunity and Living a Good Life', 'Oswaal CBSE Sample Question Papers Class 10 Science Book (For Board Exams 2024) | 2023-24 Oswaal Editorial Board', 'Indian Polity for UPSC (English| 7th Edition) |Civil Services Exam| State Administrative Exams', 'Oswaal CBSE Sample Question Papers Class 10 Mathematics Standard Book (For Board Exams 2024) | 2023-24', 'You Can']\n"
          ]
        }
      ]
    },
    {
      "cell_type": "code",
      "source": [
        "# Creating a dictionary with 2 lists scraped before\n",
        "dict = {title_lst[key] : price_lst[key] for key in range(len(title_lst))}\n",
        "dict"
      ],
      "metadata": {
        "colab": {
          "base_uri": "https://localhost:8080/"
        },
        "id": "GmYeBOJczQft",
        "outputId": "37eff715-a1e8-4777-ea5c-b9816e09cffa"
      },
      "execution_count": null,
      "outputs": [
        {
          "output_type": "execute_result",
          "data": {
            "text/plain": [
              "{'My First Library: Boxset of 10 Board Books for Kids': '399',\n",
              " \"Don't Believe Everything You Think (English)\": '187',\n",
              " 'PRANAB, MY FATHER: A Daughter Remembers': '177\\n                               \\n                                .',\n",
              " 'Atomic Habits': '0',\n",
              " 'The Power of Your Subconscious Mind': '589',\n",
              " 'Ikigai': '559\\n                               \\n                                .',\n",
              " 'Colouring Books for Kids (Pack of 12 Books)': '549',\n",
              " 'The Psychology Of Money': '265\\n                               \\n                                .',\n",
              " 'SSC GD (COMBO) MATH +REASONING+GK+HINDI': '0',\n",
              " 'My First Book of Patterns Pencil Control: Practice Patterns (Pattern Writing)': '115',\n",
              " 'THE 48 LAWS OF POWER': '15',\n",
              " 'Same as Ever: Timeless Lessons on Risk, Opportunity and Living a Good Life': '0',\n",
              " 'Oswaal CBSE Sample Question Papers Class 10 Science Book (For Board Exams 2024) | 2023-24 Oswaal Editorial Board': '346',\n",
              " 'Indian Polity for UPSC (English| 7th Edition) |Civil Services Exam| State Administrative Exams': '189\\n                               \\n                                .',\n",
              " 'Oswaal CBSE Sample Question Papers Class 10 Mathematics Standard Book (For Board Exams 2024) | 2023-24': '0',\n",
              " 'You Can': '329'}"
            ]
          },
          "metadata": {},
          "execution_count": 31
        }
      ]
    },
    {
      "cell_type": "code",
      "source": [
        "# Getting the date using DateTime\n",
        "today = datetime.date.today()"
      ],
      "metadata": {
        "id": "z0C_fQOizQjm"
      },
      "execution_count": null,
      "outputs": []
    },
    {
      "cell_type": "code",
      "source": [
        "# Writing the data into CSV file\n",
        "import csv\n",
        "heading = ['Date','Product', 'Price']\n",
        "data = [today, title_lst, price_lst]\n",
        "\n",
        "# Writing the headings into a csv file\n",
        "with open('AmazonScrape.csv', 'w', newline = '', encoding = 'UTF8') as c:\n",
        "    csvwriter = csv.writer(c)\n",
        "    csvwriter.writerow(heading)"
      ],
      "metadata": {
        "id": "98YydeyczQna"
      },
      "execution_count": null,
      "outputs": []
    },
    {
      "cell_type": "code",
      "source": [
        "# Appending all the values into the CSV file\n",
        "with open('AmazonScrape.csv', 'a+', newline = '', encoding = 'UTF8') as c:\n",
        "    for key, value in dict.items():\n",
        "        data = [today, key, value]\n",
        "        csvwriter = csv.writer(c)\n",
        "        csvwriter.writerow(data)"
      ],
      "metadata": {
        "id": "js-fbzMpzQqr"
      },
      "execution_count": null,
      "outputs": []
    },
    {
      "cell_type": "code",
      "source": [
        "# Access the Drive from Colab, to access the file\n",
        "from google.colab import drive\n",
        "drive.mount('/content/drive/')"
      ],
      "metadata": {
        "colab": {
          "base_uri": "https://localhost:8080/"
        },
        "id": "EFwznpt5HIuO",
        "outputId": "cdab3602-d731-42d8-9b1a-9c5d26ab78ba"
      },
      "execution_count": null,
      "outputs": [
        {
          "output_type": "stream",
          "name": "stdout",
          "text": [
            "Drive already mounted at /content/drive/; to attempt to forcibly remount, call drive.mount(\"/content/drive/\", force_remount=True).\n"
          ]
        }
      ]
    },
    {
      "cell_type": "code",
      "source": [
        "df = pd.read_csv(\"/content/drive/MyDrive/Folders/AmazonScrape.csv\")\n",
        "df.head()"
      ],
      "metadata": {
        "colab": {
          "base_uri": "https://localhost:8080/",
          "height": 206
        },
        "id": "0WYFfDk6ziu4",
        "outputId": "561dabef-48b3-4af5-82f0-a0b152805513"
      },
      "execution_count": null,
      "outputs": [
        {
          "output_type": "execute_result",
          "data": {
            "text/plain": [
              "         Date                                            Product  \\\n",
              "0  2023-11-16            SSC GD (COMBO) MATH +REASONING+GK+HINDI   \n",
              "1  2023-11-16       Don't Believe Everything You Think (English)   \n",
              "2  2023-11-16                                      Atomic Habits   \n",
              "3  2023-11-16  PW Physics Med Easy Notes | Notes, Formulas, M...   \n",
              "4  2023-11-16  My First Library: Boxset of 10 Board Books for...   \n",
              "\n",
              "                                               Price  \n",
              "0                                                468  \n",
              "1                                                178  \n",
              "2  154\\n                              \\n         ...  \n",
              "3                                                  0  \n",
              "4                                                499  "
            ],
            "text/html": [
              "\n",
              "  <div id=\"df-bfa7713b-3546-4bba-9359-d30c6e4718c3\" class=\"colab-df-container\">\n",
              "    <div>\n",
              "<style scoped>\n",
              "    .dataframe tbody tr th:only-of-type {\n",
              "        vertical-align: middle;\n",
              "    }\n",
              "\n",
              "    .dataframe tbody tr th {\n",
              "        vertical-align: top;\n",
              "    }\n",
              "\n",
              "    .dataframe thead th {\n",
              "        text-align: right;\n",
              "    }\n",
              "</style>\n",
              "<table border=\"1\" class=\"dataframe\">\n",
              "  <thead>\n",
              "    <tr style=\"text-align: right;\">\n",
              "      <th></th>\n",
              "      <th>Date</th>\n",
              "      <th>Product</th>\n",
              "      <th>Price</th>\n",
              "    </tr>\n",
              "  </thead>\n",
              "  <tbody>\n",
              "    <tr>\n",
              "      <th>0</th>\n",
              "      <td>2023-11-16</td>\n",
              "      <td>SSC GD (COMBO) MATH +REASONING+GK+HINDI</td>\n",
              "      <td>468</td>\n",
              "    </tr>\n",
              "    <tr>\n",
              "      <th>1</th>\n",
              "      <td>2023-11-16</td>\n",
              "      <td>Don't Believe Everything You Think (English)</td>\n",
              "      <td>178</td>\n",
              "    </tr>\n",
              "    <tr>\n",
              "      <th>2</th>\n",
              "      <td>2023-11-16</td>\n",
              "      <td>Atomic Habits</td>\n",
              "      <td>154\\n                              \\n         ...</td>\n",
              "    </tr>\n",
              "    <tr>\n",
              "      <th>3</th>\n",
              "      <td>2023-11-16</td>\n",
              "      <td>PW Physics Med Easy Notes | Notes, Formulas, M...</td>\n",
              "      <td>0</td>\n",
              "    </tr>\n",
              "    <tr>\n",
              "      <th>4</th>\n",
              "      <td>2023-11-16</td>\n",
              "      <td>My First Library: Boxset of 10 Board Books for...</td>\n",
              "      <td>499</td>\n",
              "    </tr>\n",
              "  </tbody>\n",
              "</table>\n",
              "</div>\n",
              "    <div class=\"colab-df-buttons\">\n",
              "\n",
              "  <div class=\"colab-df-container\">\n",
              "    <button class=\"colab-df-convert\" onclick=\"convertToInteractive('df-bfa7713b-3546-4bba-9359-d30c6e4718c3')\"\n",
              "            title=\"Convert this dataframe to an interactive table.\"\n",
              "            style=\"display:none;\">\n",
              "\n",
              "  <svg xmlns=\"http://www.w3.org/2000/svg\" height=\"24px\" viewBox=\"0 -960 960 960\">\n",
              "    <path d=\"M120-120v-720h720v720H120Zm60-500h600v-160H180v160Zm220 220h160v-160H400v160Zm0 220h160v-160H400v160ZM180-400h160v-160H180v160Zm440 0h160v-160H620v160ZM180-180h160v-160H180v160Zm440 0h160v-160H620v160Z\"/>\n",
              "  </svg>\n",
              "    </button>\n",
              "\n",
              "  <style>\n",
              "    .colab-df-container {\n",
              "      display:flex;\n",
              "      gap: 12px;\n",
              "    }\n",
              "\n",
              "    .colab-df-convert {\n",
              "      background-color: #E8F0FE;\n",
              "      border: none;\n",
              "      border-radius: 50%;\n",
              "      cursor: pointer;\n",
              "      display: none;\n",
              "      fill: #1967D2;\n",
              "      height: 32px;\n",
              "      padding: 0 0 0 0;\n",
              "      width: 32px;\n",
              "    }\n",
              "\n",
              "    .colab-df-convert:hover {\n",
              "      background-color: #E2EBFA;\n",
              "      box-shadow: 0px 1px 2px rgba(60, 64, 67, 0.3), 0px 1px 3px 1px rgba(60, 64, 67, 0.15);\n",
              "      fill: #174EA6;\n",
              "    }\n",
              "\n",
              "    .colab-df-buttons div {\n",
              "      margin-bottom: 4px;\n",
              "    }\n",
              "\n",
              "    [theme=dark] .colab-df-convert {\n",
              "      background-color: #3B4455;\n",
              "      fill: #D2E3FC;\n",
              "    }\n",
              "\n",
              "    [theme=dark] .colab-df-convert:hover {\n",
              "      background-color: #434B5C;\n",
              "      box-shadow: 0px 1px 3px 1px rgba(0, 0, 0, 0.15);\n",
              "      filter: drop-shadow(0px 1px 2px rgba(0, 0, 0, 0.3));\n",
              "      fill: #FFFFFF;\n",
              "    }\n",
              "  </style>\n",
              "\n",
              "    <script>\n",
              "      const buttonEl =\n",
              "        document.querySelector('#df-bfa7713b-3546-4bba-9359-d30c6e4718c3 button.colab-df-convert');\n",
              "      buttonEl.style.display =\n",
              "        google.colab.kernel.accessAllowed ? 'block' : 'none';\n",
              "\n",
              "      async function convertToInteractive(key) {\n",
              "        const element = document.querySelector('#df-bfa7713b-3546-4bba-9359-d30c6e4718c3');\n",
              "        const dataTable =\n",
              "          await google.colab.kernel.invokeFunction('convertToInteractive',\n",
              "                                                    [key], {});\n",
              "        if (!dataTable) return;\n",
              "\n",
              "        const docLinkHtml = 'Like what you see? Visit the ' +\n",
              "          '<a target=\"_blank\" href=https://colab.research.google.com/notebooks/data_table.ipynb>data table notebook</a>'\n",
              "          + ' to learn more about interactive tables.';\n",
              "        element.innerHTML = '';\n",
              "        dataTable['output_type'] = 'display_data';\n",
              "        await google.colab.output.renderOutput(dataTable, element);\n",
              "        const docLink = document.createElement('div');\n",
              "        docLink.innerHTML = docLinkHtml;\n",
              "        element.appendChild(docLink);\n",
              "      }\n",
              "    </script>\n",
              "  </div>\n",
              "\n",
              "\n",
              "<div id=\"df-6bc598e8-2976-48ae-ac2f-716b4afd7d16\">\n",
              "  <button class=\"colab-df-quickchart\" onclick=\"quickchart('df-6bc598e8-2976-48ae-ac2f-716b4afd7d16')\"\n",
              "            title=\"Suggest charts\"\n",
              "            style=\"display:none;\">\n",
              "\n",
              "<svg xmlns=\"http://www.w3.org/2000/svg\" height=\"24px\"viewBox=\"0 0 24 24\"\n",
              "     width=\"24px\">\n",
              "    <g>\n",
              "        <path d=\"M19 3H5c-1.1 0-2 .9-2 2v14c0 1.1.9 2 2 2h14c1.1 0 2-.9 2-2V5c0-1.1-.9-2-2-2zM9 17H7v-7h2v7zm4 0h-2V7h2v10zm4 0h-2v-4h2v4z\"/>\n",
              "    </g>\n",
              "</svg>\n",
              "  </button>\n",
              "\n",
              "<style>\n",
              "  .colab-df-quickchart {\n",
              "      --bg-color: #E8F0FE;\n",
              "      --fill-color: #1967D2;\n",
              "      --hover-bg-color: #E2EBFA;\n",
              "      --hover-fill-color: #174EA6;\n",
              "      --disabled-fill-color: #AAA;\n",
              "      --disabled-bg-color: #DDD;\n",
              "  }\n",
              "\n",
              "  [theme=dark] .colab-df-quickchart {\n",
              "      --bg-color: #3B4455;\n",
              "      --fill-color: #D2E3FC;\n",
              "      --hover-bg-color: #434B5C;\n",
              "      --hover-fill-color: #FFFFFF;\n",
              "      --disabled-bg-color: #3B4455;\n",
              "      --disabled-fill-color: #666;\n",
              "  }\n",
              "\n",
              "  .colab-df-quickchart {\n",
              "    background-color: var(--bg-color);\n",
              "    border: none;\n",
              "    border-radius: 50%;\n",
              "    cursor: pointer;\n",
              "    display: none;\n",
              "    fill: var(--fill-color);\n",
              "    height: 32px;\n",
              "    padding: 0;\n",
              "    width: 32px;\n",
              "  }\n",
              "\n",
              "  .colab-df-quickchart:hover {\n",
              "    background-color: var(--hover-bg-color);\n",
              "    box-shadow: 0 1px 2px rgba(60, 64, 67, 0.3), 0 1px 3px 1px rgba(60, 64, 67, 0.15);\n",
              "    fill: var(--button-hover-fill-color);\n",
              "  }\n",
              "\n",
              "  .colab-df-quickchart-complete:disabled,\n",
              "  .colab-df-quickchart-complete:disabled:hover {\n",
              "    background-color: var(--disabled-bg-color);\n",
              "    fill: var(--disabled-fill-color);\n",
              "    box-shadow: none;\n",
              "  }\n",
              "\n",
              "  .colab-df-spinner {\n",
              "    border: 2px solid var(--fill-color);\n",
              "    border-color: transparent;\n",
              "    border-bottom-color: var(--fill-color);\n",
              "    animation:\n",
              "      spin 1s steps(1) infinite;\n",
              "  }\n",
              "\n",
              "  @keyframes spin {\n",
              "    0% {\n",
              "      border-color: transparent;\n",
              "      border-bottom-color: var(--fill-color);\n",
              "      border-left-color: var(--fill-color);\n",
              "    }\n",
              "    20% {\n",
              "      border-color: transparent;\n",
              "      border-left-color: var(--fill-color);\n",
              "      border-top-color: var(--fill-color);\n",
              "    }\n",
              "    30% {\n",
              "      border-color: transparent;\n",
              "      border-left-color: var(--fill-color);\n",
              "      border-top-color: var(--fill-color);\n",
              "      border-right-color: var(--fill-color);\n",
              "    }\n",
              "    40% {\n",
              "      border-color: transparent;\n",
              "      border-right-color: var(--fill-color);\n",
              "      border-top-color: var(--fill-color);\n",
              "    }\n",
              "    60% {\n",
              "      border-color: transparent;\n",
              "      border-right-color: var(--fill-color);\n",
              "    }\n",
              "    80% {\n",
              "      border-color: transparent;\n",
              "      border-right-color: var(--fill-color);\n",
              "      border-bottom-color: var(--fill-color);\n",
              "    }\n",
              "    90% {\n",
              "      border-color: transparent;\n",
              "      border-bottom-color: var(--fill-color);\n",
              "    }\n",
              "  }\n",
              "</style>\n",
              "\n",
              "  <script>\n",
              "    async function quickchart(key) {\n",
              "      const quickchartButtonEl =\n",
              "        document.querySelector('#' + key + ' button');\n",
              "      quickchartButtonEl.disabled = true;  // To prevent multiple clicks.\n",
              "      quickchartButtonEl.classList.add('colab-df-spinner');\n",
              "      try {\n",
              "        const charts = await google.colab.kernel.invokeFunction(\n",
              "            'suggestCharts', [key], {});\n",
              "      } catch (error) {\n",
              "        console.error('Error during call to suggestCharts:', error);\n",
              "      }\n",
              "      quickchartButtonEl.classList.remove('colab-df-spinner');\n",
              "      quickchartButtonEl.classList.add('colab-df-quickchart-complete');\n",
              "    }\n",
              "    (() => {\n",
              "      let quickchartButtonEl =\n",
              "        document.querySelector('#df-6bc598e8-2976-48ae-ac2f-716b4afd7d16 button');\n",
              "      quickchartButtonEl.style.display =\n",
              "        google.colab.kernel.accessAllowed ? 'block' : 'none';\n",
              "    })();\n",
              "  </script>\n",
              "</div>\n",
              "    </div>\n",
              "  </div>\n"
            ]
          },
          "metadata": {},
          "execution_count": 36
        }
      ]
    },
    {
      "cell_type": "code",
      "source": [
        "# Using Regex to remove the newlines\n",
        "import re\n",
        "df['Price'] = df['Price'].apply(lambda x : re.sub(r'\\n', '', x))"
      ],
      "metadata": {
        "id": "HCKh4HuXziy2"
      },
      "execution_count": null,
      "outputs": []
    },
    {
      "cell_type": "code",
      "source": [
        "df['Price'] = df['Price'].apply(lambda x : re.sub(r' ', '', x))"
      ],
      "metadata": {
        "id": "IAFxINmlzi3D"
      },
      "execution_count": null,
      "outputs": []
    },
    {
      "cell_type": "code",
      "source": [
        "df.Price"
      ],
      "metadata": {
        "colab": {
          "base_uri": "https://localhost:8080/"
        },
        "id": "mRBNpOfczi80",
        "outputId": "98b1137d-691b-4114-ce4a-105750662de7"
      },
      "execution_count": null,
      "outputs": [
        {
          "output_type": "execute_result",
          "data": {
            "text/plain": [
              "0      468\n",
              "1      178\n",
              "2     154.\n",
              "3        0\n",
              "4      499\n",
              "5     353.\n",
              "6        0\n",
              "7      421\n",
              "8      399\n",
              "9      309\n",
              "10    175.\n",
              "11     410\n",
              "12     346\n",
              "13    189.\n",
              "14       0\n",
              "15     115\n",
              "Name: Price, dtype: object"
            ]
          },
          "metadata": {},
          "execution_count": 39
        }
      ]
    },
    {
      "cell_type": "code",
      "source": [
        "df.to_string"
      ],
      "metadata": {
        "colab": {
          "base_uri": "https://localhost:8080/"
        },
        "id": "zY6t7cntzjPQ",
        "outputId": "75789477-b91a-436b-dfa0-67417352a099"
      },
      "execution_count": null,
      "outputs": [
        {
          "output_type": "execute_result",
          "data": {
            "text/plain": [
              "<bound method DataFrame.to_string of           Date                                            Product Price\n",
              "0   2023-11-16            SSC GD (COMBO) MATH +REASONING+GK+HINDI   468\n",
              "1   2023-11-16       Don't Believe Everything You Think (English)   178\n",
              "2   2023-11-16                                      Atomic Habits  154.\n",
              "3   2023-11-16  PW Physics Med Easy Notes | Notes, Formulas, M...     0\n",
              "4   2023-11-16  My First Library: Boxset of 10 Board Books for...   499\n",
              "5   2023-11-16                            The Psychology Of Money  353.\n",
              "6   2023-11-16                                             Ikigai     0\n",
              "7   2023-11-16                The Power of Your Subconscious Mind   421\n",
              "8   2023-11-16                               THE 48 LAWS OF POWER   399\n",
              "9   2023-11-16  Brain Activity Book for Kids - 200+ Activities...   309\n",
              "10  2023-11-16  SAME AS EVER: Timeless Lessons on Risk, Opport...  175.\n",
              "11  2023-11-16         Diary Of A Wimpy Kid: No Brainer (Book 18)   410\n",
              "12  2023-11-16  Do It Today: Overcome procrastination, improve...   346\n",
              "13  2023-11-16  BRAHMASTRA Complete Maths Multicolored Formula...  189.\n",
              "14  2023-11-16        Colouring Books for Kids (Pack of 12 Books)     0\n",
              "15  2023-11-16  My First Mythology Tale (Illustrated) (Set of ...   115>"
            ]
          },
          "metadata": {},
          "execution_count": 40
        }
      ]
    },
    {
      "cell_type": "code",
      "source": [
        "df.to_csv('/content/drive/MyDrive/Folders/AmazonScrapeFinal.csv')"
      ],
      "metadata": {
        "id": "TbcAawYOzjUL"
      },
      "execution_count": null,
      "outputs": []
    },
    {
      "cell_type": "markdown",
      "source": [
        "Web Scraping Popular Books on Amazon\n",
        "\n",
        "This is a simple web scraper using BeautifulSoup. It scrapes data on popular top-selling books on Amazon. It uses requests to make the HTTP request.\n",
        "\n",
        "The data collected were cleaned and made in a neat way using pandas.\n",
        "\n",
        "The data collected were written to a CSV file using the CSV library."
      ],
      "metadata": {
        "id": "p7bmFPLhJNFX"
      }
    }
  ]
}