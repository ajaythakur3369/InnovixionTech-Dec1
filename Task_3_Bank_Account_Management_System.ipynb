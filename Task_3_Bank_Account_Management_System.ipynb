{
  "nbformat": 4,
  "nbformat_minor": 0,
  "metadata": {
    "colab": {
      "provenance": [],
      "authorship_tag": "ABX9TyMLIPik1tUZDvmW5wDKbjwp",
      "include_colab_link": true
    },
    "kernelspec": {
      "name": "python3",
      "display_name": "Python 3"
    },
    "language_info": {
      "name": "python"
    }
  },
  "cells": [
    {
      "cell_type": "markdown",
      "metadata": {
        "id": "view-in-github",
        "colab_type": "text"
      },
      "source": [
        "<a href=\"https://colab.research.google.com/github/ajaythakur3369/InnovixionTech-Dec1/blob/main/Task_3_Bank_Account_Management_System.ipynb\" target=\"_parent\"><img src=\"https://colab.research.google.com/assets/colab-badge.svg\" alt=\"Open In Colab\"/></a>"
      ]
    },
    {
      "cell_type": "markdown",
      "source": [
        "# **Project - Bank Account Management System**\n",
        "## **Developed By - Ajay Thakur (ajaythakur3369@gmail.com)**\n",
        "## **Branch Name - Electronics and Communication Engineering**\n",
        "## **Institute Name - Indian Institute of Information Technology Kota (An Institute of National Importance under an Act of Parliament)**\n",
        "## **Submitted To - Innovixion Tech**\n",
        "## **Project Link (GitHub) - [Click here](https://github.com/ajaythakur3369/InnovixionTech-Dec1/blob/main/Task_3_Bank_Account_Management_System.ipynb)**\n",
        "## **Project Link (Drive) - [Click here](https://colab.research.google.com/drive/1T6jDggzpMaGDYuWsBOZ1bdBiLIg16vPm)**"
      ],
      "metadata": {
        "id": "ESuUZmwaE7E7"
      }
    },
    {
      "cell_type": "markdown",
      "source": [
        "# **Problem Statement -**"
      ],
      "metadata": {
        "id": "o2Y_4HDNE8kw"
      }
    },
    {
      "cell_type": "markdown",
      "source": [
        "Create a system that simulates basic bank account functions such as account creation, balance checking, deposits, and withdrawals."
      ],
      "metadata": {
        "id": "6PENSpgWE-sb"
      }
    },
    {
      "cell_type": "markdown",
      "source": [
        "# **Let's Begin !**"
      ],
      "metadata": {
        "id": "JIdRGhQEFBU6"
      }
    },
    {
      "cell_type": "code",
      "source": [
        "class Bank:\n",
        "  def __init__(self):\n",
        "    # Initialize an empty dictionary to store account numbers and their balances\n",
        "    self.accounts = {}\n",
        "\n",
        "  def create_account(self, account_number, initial_balance = 0):\n",
        "    # Check if the account number already exists in the dictionary\n",
        "    if account_number not in self.accounts:\n",
        "      # If it doesn't exist, add the account number and initial balance to the dictionary\n",
        "      self.accounts[account_number] = initial_balance\n",
        "      print(f\"Account created successfully for {account_number} with initial balance: ${initial_balance}\")\n",
        "    else:\n",
        "      # If it already exists, print a message indicating that the account already exists\n",
        "      print(f\"Account already exists for {account_number}\")\n",
        "\n",
        "  def view_balance (self, account_number):\n",
        "    # Check if the account number exists in the dictionary\n",
        "    if account_number in self.accounts:\n",
        "      # If it exists, retrieve the balance and print it\n",
        "      balance = self.accounts[account_number]\n",
        "      print(f\"Balance in the account {account_number} is: ${balance}\")\n",
        "    else:\n",
        "      # If it doesn't exist, print a message indicating that the account was not found\n",
        "      print(f\"Account {account_number} not found\")\n",
        "\n",
        "  def deposit_money(self, account_number, amount):\n",
        "    # Check if the account number exists in the dictionary\n",
        "    if account_number in self.accounts:\n",
        "      # If it exists, add the deposit amount to the balance and print a success message\n",
        "      self.accounts[account_number] += amount\n",
        "      print(f\"${amount} was deposited successfully into account {account_number}\")\n",
        "      # Call the view_balance method to display the updated balance\n",
        "      self.view_balance(account_number)\n",
        "    else:\n",
        "      # If it doesn't exist, print a message indicating that the account was not found\n",
        "      print(f\"Account {account_number} not found\")\n",
        "\n",
        "  def withdraw_money(self, account_number, amount):\n",
        "    # Check if the account number exists in the dictionary\n",
        "    if account_number in self.accounts:\n",
        "      # If it exists, check if the balance is sufficient for the withdrawal amount\n",
        "      if self.accounts[account_number] >= amount:\n",
        "        # If it is, subtract the withdrawal amount from the balance and print a success message\n",
        "        self.accounts[account_number] -= amount\n",
        "        print(f\"${amount} was withdrawn successfully from account {account_number}\")\n",
        "        # Call the view_balance method to display the updated balance\n",
        "        self.view_balance(account_number)\n",
        "      else:\n",
        "        # If it isn't, print a message indicating that there are insufficient funds\n",
        "        print(\"Insufficient funds\")\n",
        "    else:\n",
        "      # If it doesn't exist, print a message indicating that the account was not found\n",
        "      print(f\"Account {account_number} not found\")\n",
        "\n",
        "# Example usage with user input:\n",
        "bank = Bank()\n",
        "while True:\n",
        "  print(\"\\nBank Account Management System\")\n",
        "  print(\"1. Create Account\")\n",
        "  print(\"2. View Balance\")\n",
        "  print(\"3. Deposit Money\")\n",
        "  print(\"4. Withdraw Money\")\n",
        "  print(\"5. Exit\")\n",
        "\n",
        "  choice = input(\"Enter your choice (1-5):  \")\n",
        "\n",
        "  if choice == '1':\n",
        "    account_number = input(\"Enter your account number: \")\n",
        "    bank.create_account(account_number)\n",
        "  elif choice == '2':\n",
        "      account_number = input(\"Enter your account number: \")\n",
        "      bank.view_balance(account_number)\n",
        "  elif choice == '3':\n",
        "        account_number = input(\"Enter your account number: \")\n",
        "        amount = float(input(\"Enter the deposit amount: $\"))\n",
        "        bank.deposit_money(account_number, amount)\n",
        "  elif choice == '4':\n",
        "          account_number = input(\"Enter your account number: \")\n",
        "          amount = float(input(\"Enter the withdrawal amount: $\"))\n",
        "          bank.withdraw_money(account_number, amount)\n",
        "  elif choice == '5':\n",
        "    print(\"Existing the banking system.\")\n",
        "    break\n",
        "  else:\n",
        "      print(\"Invalid choice. Please enter a number between 1 and 5.\")"
      ],
      "metadata": {
        "colab": {
          "base_uri": "https://localhost:8080/"
        },
        "id": "oCtH1fF2LDh3",
        "outputId": "2e1db17c-0d2c-43df-e240-e1b846eab46c"
      },
      "execution_count": null,
      "outputs": [
        {
          "output_type": "stream",
          "name": "stdout",
          "text": [
            "\n",
            "Bank Account Management System\n",
            "1. Create Account\n",
            "2. View Balance\n",
            "3. Deposit Money\n",
            "4. Withdraw Money\n",
            "5. Exit\n",
            "Enter your choice (1-5):  1\n",
            "Enter your account number: 5467547845\n",
            "Account created successfully for 5467547845 with initial balance: $0\n",
            "\n",
            "Bank Account Management System\n",
            "1. Create Account\n",
            "2. View Balance\n",
            "3. Deposit Money\n",
            "4. Withdraw Money\n",
            "5. Exit\n",
            "Enter your choice (1-5):  2\n",
            "Enter your account number: 5467547845\n",
            "Balance in the account 5467547845 is: $0\n",
            "\n",
            "Bank Account Management System\n",
            "1. Create Account\n",
            "2. View Balance\n",
            "3. Deposit Money\n",
            "4. Withdraw Money\n",
            "5. Exit\n",
            "Enter your choice (1-5):  3\n",
            "Enter your account number: 5467547845\n",
            "Enter the deposit amount: $500\n",
            "$500.0 was deposited successfully into account 5467547845\n",
            "Balance in the account 5467547845 is: $500.0\n",
            "\n",
            "Bank Account Management System\n",
            "1. Create Account\n",
            "2. View Balance\n",
            "3. Deposit Money\n",
            "4. Withdraw Money\n",
            "5. Exit\n",
            "Enter your choice (1-5):  4\n",
            "Enter your account number: 5467547845\n",
            "Enter the withdrawal amount: $100\n",
            "$100.0 was withdrawn successfully from account 5467547845\n",
            "Balance in the account 5467547845 is: $400.0\n",
            "\n",
            "Bank Account Management System\n",
            "1. Create Account\n",
            "2. View Balance\n",
            "3. Deposit Money\n",
            "4. Withdraw Money\n",
            "5. Exit\n",
            "Enter your choice (1-5):  5\n",
            "Existing the banking system.\n"
          ]
        }
      ]
    }
  ]
}