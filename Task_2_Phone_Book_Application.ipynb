{
  "cells": [
    {
      "cell_type": "markdown",
      "metadata": {
        "id": "view-in-github",
        "colab_type": "text"
      },
      "source": [
        "<a href=\"https://colab.research.google.com/github/ajaythakur3369/InnovixionTech-Dec1/blob/main/Task_2_Phone_Book_Application.ipynb\" target=\"_parent\"><img src=\"https://colab.research.google.com/assets/colab-badge.svg\" alt=\"Open In Colab\"/></a>"
      ]
    },
    {
      "cell_type": "markdown",
      "metadata": {
        "id": "P0kvkHKrzMVH"
      },
      "source": [
        "# **Project - Phone Book Application**\n",
        "## **Developed By - Ajay Thakur (ajaythakur3369@gmail.com)**\n",
        "## **Branch Name - Electronics and Communication Engineering**\n",
        "## **Institute Name - Indian Institute of Information Technology Kota (An Institute of National Importance under an Act of Parliament)**\n",
        "## **Submitted To - Innovixion Tech**\n",
        "## **Project Link (GitHub) - [Click here](https://github.com/ajaythakur3369/InnovixionTech-Dec1/blob/main/Task_2_Phone_Book_Application.ipynb)**\n",
        "## **Project Link (Drive) - [Click here](https://colab.research.google.com/drive/1K_tUTcDOsYW1zs-LgUWyKu841eaSE-qo)**"
      ]
    },
    {
      "cell_type": "markdown",
      "metadata": {
        "id": "Rj1vquePzOCZ"
      },
      "source": [
        "# **Problem Statement -**"
      ]
    },
    {
      "cell_type": "markdown",
      "metadata": {
        "id": "a3_GrFDozZeR"
      },
      "source": [
        "Create a basic contact management system that stores and manages contacts, allowing users to add, edit, and delete contacts."
      ]
    },
    {
      "cell_type": "markdown",
      "metadata": {
        "id": "-oyC1JYeze6z"
      },
      "source": [
        "# **Let's Begin !**"
      ]
    },
    {
      "cell_type": "code",
      "source": [
        "class ContactManager:\n",
        "    def __init__(self):\n",
        "        # Initialize an empty list to store contacts\n",
        "        self.contacts = []\n",
        "\n",
        "    # Add a new contact to the list of contacts\n",
        "    def add_contact(self, name, phone, email):\n",
        "      # Create a dictionary object for the new contact\n",
        "        contact = {'name': name, 'phone': phone, 'email': email}\n",
        "        # Append the new contact to the list of contacts\n",
        "        self.contacts.append(contact)\n",
        "        # Print a message indicating that the contact has been added\n",
        "        print(f\"Contact added: {contact}\")\n",
        "\n",
        "    # Edit an existing contact in the list of contacts\n",
        "    def edit_contact(self, index, name, phone, email):\n",
        "      # Check if the given index is valid\n",
        "        if 0 <= index < len(self.contacts):\n",
        "            # Update the name of the contact at the given index\n",
        "            self.contacts[index]['name'] = name\n",
        "            # Update the phone number of the contact at the given index\n",
        "            self.contacts[index]['phone'] = phone\n",
        "            # Update the email of the contact at the given index\n",
        "            self.contacts[index]['email'] = email\n",
        "            # Print a message indicating that the contact has been edited\n",
        "            print(f\"Contact edited: {self.contacts[index]}\")\n",
        "        else:\n",
        "            # Print an error message if the given index is invalid\n",
        "            print(\"Invalid contact index\")\n",
        "\n",
        "    # Delete an existing contact from the list of contacts\n",
        "    def delete_contact(self, index):\n",
        "      # Check if the given index is valid\n",
        "        if 0 <= index < len(self.contacts):\n",
        "            # Remove the contact at the given index from the list of contacts\n",
        "            deleted_contact = self.contacts.pop(index)\n",
        "            # Print a message indicating that the contact has been deleted\n",
        "            print(f\"Contact deleted: {deleted_contact}\")\n",
        "        else:\n",
        "            # Print an error message if the given index is invalid\n",
        "            print(\"Invalid contact index\")\n",
        "\n",
        "    # Display all contacts in the list of contacts\n",
        "    def display_contacts(self):\n",
        "        # Check if the list of contacts is empty\n",
        "        if not self.contacts:\n",
        "            # Print a message indicating that there are no contacts available\n",
        "            print(\"No contacts available.\")\n",
        "        else:\n",
        "            # Loop through the list of contacts and print each contact along with its\n",
        "            for i, contact in enumerate(self.contacts):\n",
        "                print(f\"{i+1}. {contact}\")\n",
        "\n",
        "contact_manager = ContactManager()\n",
        "\n",
        "while True:\n",
        "    print(\"\\nContact Management System\")\n",
        "    print(\"1. Add Contact\")\n",
        "    print(\"2. Edit Contact\")\n",
        "    print(\"3. Delete Contact\")\n",
        "    print(\"4. Display Contacts\")\n",
        "    print(\"5. Exit\")\n",
        "\n",
        "    choice = input(\"Enter your choice (1-5): \")\n",
        "\n",
        "    if choice == '1':\n",
        "        name = input(\"Enter your name: \")\n",
        "        phone = input(\"Enter your phone number: \")\n",
        "        email = input(\"Enter your email ID: \")\n",
        "        contact_manager.add_contact(name, phone, email)\n",
        "    elif choice == '2':\n",
        "        index = int(input(\"Enter the index of the contact to edit: \")) - 1\n",
        "        name = input(\"Enter new contact name: \")\n",
        "        phone = input(\"Enter new contact phone number: \")\n",
        "        email = input(\"Enter new contact email: \")\n",
        "        contact_manager.edit_contact(index, name, phone, email)\n",
        "    elif choice == '3':\n",
        "        index = int(input(\"Enter the index of the contact to delete: \")) - 1\n",
        "        contact_manager.delete_contact(index)\n",
        "    elif choice == '4':\n",
        "        contact_manager.display_contacts()\n",
        "    elif choice == '5':\n",
        "        print(\"Exiting the Contact Management System. Goodbye!\")\n",
        "        break\n",
        "    else:\n",
        "        print(\"Invalid choice. Please enter a number between 1 and 5.\")"
      ],
      "metadata": {
        "colab": {
          "base_uri": "https://localhost:8080/"
        },
        "id": "r-7DrQ1_Duxq",
        "outputId": "b8f4043b-c3b9-41ac-91ff-053873a86a56"
      },
      "execution_count": null,
      "outputs": [
        {
          "output_type": "stream",
          "name": "stdout",
          "text": [
            "\n",
            "Contact Management System\n",
            "1. Add Contact\n",
            "2. Edit Contact\n",
            "3. Delete Contact\n",
            "4. Display Contacts\n",
            "5. Exit\n",
            "Enter your choice (1-5): 1\n",
            "Enter your name: Ajay Thakur\n",
            "Enter your phone number: 6261481050\n",
            "Enter your email ID: ajaythakur3369@gmail.com\n",
            "Contact added: {'name': 'Ajay Thakur', 'phone': '6261481050', 'email': 'ajaythakur3369@gmail.com'}\n",
            "\n",
            "Contact Management System\n",
            "1. Add Contact\n",
            "2. Edit Contact\n",
            "3. Delete Contact\n",
            "4. Display Contacts\n",
            "5. Exit\n",
            "Enter your choice (1-5): 1\n",
            "Enter your name: Mukesh Singh\n",
            "Enter your phone number: 9893212865\n",
            "Enter your email ID: ojasva.jain89@gmail.com\n",
            "Contact added: {'name': 'Mukesh Singh', 'phone': '9893212865', 'email': 'ojasva.jain89@gmail.com'}\n",
            "\n",
            "Contact Management System\n",
            "1. Add Contact\n",
            "2. Edit Contact\n",
            "3. Delete Contact\n",
            "4. Display Contacts\n",
            "5. Exit\n",
            "Enter your choice (1-5): Kalyan Singh\n",
            "Invalid choice. Please enter a number between 1 and 5.\n",
            "\n",
            "Contact Management System\n",
            "1. Add Contact\n",
            "2. Edit Contact\n",
            "3. Delete Contact\n",
            "4. Display Contacts\n",
            "5. Exit\n",
            "Enter your choice (1-5): 1\n",
            "Enter your name: Kalyan Singh\n",
            "Enter your phone number: 9893452378\n",
            "Enter your email ID: kalyan.singh.1998cse@gmail.com\n",
            "Contact added: {'name': 'Kalyan Singh', 'phone': '9893452378', 'email': 'kalyan.singh.1998cse@gmail.com'}\n",
            "\n",
            "Contact Management System\n",
            "1. Add Contact\n",
            "2. Edit Contact\n",
            "3. Delete Contact\n",
            "4. Display Contacts\n",
            "5. Exit\n",
            "Enter your choice (1-5): 1\n",
            "Enter your name: Sushil Kumar\n",
            "Enter your phone number: 6261239534\n",
            "Enter your email ID: kumar.sushil1234@gmail.com\n",
            "Contact added: {'name': 'Sushil Kumar', 'phone': '6261239534', 'email': 'kumar.sushil1234@gmail.com'}\n",
            "\n",
            "Contact Management System\n",
            "1. Add Contact\n",
            "2. Edit Contact\n",
            "3. Delete Contact\n",
            "4. Display Contacts\n",
            "5. Exit\n",
            "Enter your choice (1-5): 2\n",
            "Enter the index of the contact to edit: 2\n",
            "Enter new contact name: Prakhar Sinha\n",
            "Enter new contact phone number: 9893443167\n",
            "Enter new contact email: prakhar.sinha.1998cse@gmail.com\n",
            "Contact edited: {'name': 'Prakhar Sinha', 'phone': '9893443167', 'email': 'prakhar.sinha.1998cse@gmail.com'}\n",
            "\n",
            "Contact Management System\n",
            "1. Add Contact\n",
            "2. Edit Contact\n",
            "3. Delete Contact\n",
            "4. Display Contacts\n",
            "5. Exit\n",
            "Enter your choice (1-5): 3\n",
            "Enter the index of the contact to delete: 3\n",
            "Contact deleted: {'name': 'Kalyan Singh', 'phone': '9893452378', 'email': 'kalyan.singh.1998cse@gmail.com'}\n",
            "\n",
            "Contact Management System\n",
            "1. Add Contact\n",
            "2. Edit Contact\n",
            "3. Delete Contact\n",
            "4. Display Contacts\n",
            "5. Exit\n",
            "Enter your choice (1-5): 4\n",
            "1. {'name': 'Ajay Thakur', 'phone': '6261481050', 'email': 'ajaythakur3369@gmail.com'}\n",
            "2. {'name': 'Prakhar Sinha', 'phone': '9893443167', 'email': 'prakhar.sinha.1998cse@gmail.com'}\n",
            "3. {'name': 'Sushil Kumar', 'phone': '6261239534', 'email': 'kumar.sushil1234@gmail.com'}\n",
            "\n",
            "Contact Management System\n",
            "1. Add Contact\n",
            "2. Edit Contact\n",
            "3. Delete Contact\n",
            "4. Display Contacts\n",
            "5. Exit\n",
            "Enter your choice (1-5): 5\n",
            "Exiting the Contact Management System. Goodbye!\n"
          ]
        }
      ]
    }
  ],
  "metadata": {
    "colab": {
      "provenance": [],
      "authorship_tag": "ABX9TyNG2sKhag+w/L0Z369Cm4dW",
      "include_colab_link": true
    },
    "kernelspec": {
      "display_name": "Python 3",
      "name": "python3"
    },
    "language_info": {
      "name": "python"
    }
  },
  "nbformat": 4,
  "nbformat_minor": 0
}